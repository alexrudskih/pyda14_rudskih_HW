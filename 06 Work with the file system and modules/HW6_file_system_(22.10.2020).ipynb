{
 "cells": [
  {
   "cell_type": "markdown",
   "metadata": {},
   "source": [
    "Переведите содержимое файла purchase_log.txt в словарь purchases вида:\n",
    "{‘1840e0b9d4’: ‘Продукты’, …}"
   ]
  },
  {
   "cell_type": "code",
   "execution_count": 1,
   "metadata": {},
   "outputs": [],
   "source": [
    "import json"
   ]
  },
  {
   "cell_type": "code",
   "execution_count": 53,
   "metadata": {},
   "outputs": [],
   "source": [
    "with open('purchase_log.txt', 'r', encoding='utf-8') as f:\n",
    "    dict_result = {}\n",
    "    i = 0\n",
    "    f.readline()\n",
    "\n",
    "    for line_1 in f:\n",
    "        line_1 = line_1.strip()\n",
    "        dict_ = json.loads(line_1)\n",
    "        list_ = list(dict_.values())\n",
    "        dict_result[list_[0]] = list_[1]\n",
    "    \n",
    "content = dict_result    \n",
    "#         i +=1\n",
    "#         if i > 10:\n",
    "#             break\n",
    "        \n",
    "# print(dict_result)"
   ]
  },
  {
   "cell_type": "markdown",
   "metadata": {},
   "source": [
    "Для каждого user_id в файле visit_log.csv определите третий столбец с категорией покупки (если покупка была, сам файл visit_log.csv изменять не надо). Запишите в файл funnel.csv визиты из файла visit_log.csv, в которых были покупки с указанием категории.\n",
    "Учтите условия на данные:\n",
    "содержимое purchase_log.txt помещается в оперативную память компьютера\n",
    "содержимое visit_log.csv - нет; используйте только построчную обработку этого файла"
   ]
  },
  {
   "cell_type": "code",
   "execution_count": 54,
   "metadata": {},
   "outputs": [],
   "source": [
    "f3 = open('funnel.csv', 'w')\n",
    "\n",
    "with open('visit_log.csv', 'r', encoding = 'utf-8') as f2:\n",
    "    for line_2 in f2:\n",
    "        line_2 = line_2.strip().split(',')\n",
    "        if line_2[0] in content.keys():\n",
    "            f3.write(f'{line_2[0]},{line_2[1]},{dict_result[line_2[0]]}\\n')\n",
    "\n",
    "f3.close()\n",
    "        "
   ]
  },
  {
   "cell_type": "code",
   "execution_count": 55,
   "metadata": {},
   "outputs": [
    {
     "data": {
      "text/plain": [
       "'1840e0b9d4,other,Продукты\\n'"
      ]
     },
     "execution_count": 55,
     "metadata": {},
     "output_type": "execute_result"
    }
   ],
   "source": [
    "f3_read = open('funnel.csv', 'r')\n",
    "f3_read.readline()"
   ]
  },
  {
   "cell_type": "code",
   "execution_count": 59,
   "metadata": {},
   "outputs": [
    {
     "data": {
      "text/plain": [
       "'373a6055fe,other,Бытовая техника\\n'"
      ]
     },
     "execution_count": 59,
     "metadata": {},
     "output_type": "execute_result"
    }
   ],
   "source": [
    "f3_read.readline()"
   ]
  },
  {
   "cell_type": "markdown",
   "metadata": {},
   "source": [
    "В файл funnel.csv не попадают покупки, у которых нет категории."
   ]
  }
 ],
 "metadata": {
  "kernelspec": {
   "display_name": "Python 3",
   "language": "python",
   "name": "python3"
  },
  "language_info": {
   "codemirror_mode": {
    "name": "ipython",
    "version": 3
   },
   "file_extension": ".py",
   "mimetype": "text/x-python",
   "name": "python",
   "nbconvert_exporter": "python",
   "pygments_lexer": "ipython3",
   "version": "3.7.6"
  }
 },
 "nbformat": 4,
 "nbformat_minor": 4
}
