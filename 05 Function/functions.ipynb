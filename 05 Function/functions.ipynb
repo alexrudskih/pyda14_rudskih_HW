{
 "cells": [
  {
   "cell_type": "markdown",
   "metadata": {},
   "source": [
    "Вы работаете секретарем и вам постоянно приходят различные документы. Вы должны быть очень внимательны, чтобы не потерять ни один документ. Каталог документов хранится в следующем виде:"
   ]
  },
  {
   "cell_type": "code",
   "execution_count": 77,
   "metadata": {},
   "outputs": [],
   "source": [
    "documents = [\n",
    "    {'type': 'passport', 'number': '2207 876234', 'name': 'Василий Гупкин'},\n",
    "    {'type': 'invoice', 'number': '11-2', 'name': 'Геннадий Покемонов'},\n",
    "    {'type': 'insurance', 'number': '10006', 'name': 'Аристарх Павлов'}\n",
    "]"
   ]
  },
  {
   "cell_type": "markdown",
   "metadata": {},
   "source": [
    "Перечень полок, на которых находятся документы хранится в следующем виде:"
   ]
  },
  {
   "cell_type": "code",
   "execution_count": 78,
   "metadata": {},
   "outputs": [],
   "source": [
    "directories = {\n",
    "    '1': ['2207 876234', '11-2'],\n",
    "    '2': ['10006'],\n",
    "    '3': []\n",
    "}"
   ]
  },
  {
   "cell_type": "code",
   "execution_count": 84,
   "metadata": {},
   "outputs": [],
   "source": [
    "# p – people – команда, которая спросит номер документа и выведет имя человека, которому он принадлежит;\n",
    "def people(documents):\n",
    "    number_doc = input('Введите номер документа: ')\n",
    "    for doc in documents:\n",
    "        if number_doc == doc['number']:\n",
    "            print(doc['name'])\n",
    "            return\n",
    "    print('Документ не найден')"
   ]
  },
  {
   "cell_type": "code",
   "execution_count": 85,
   "metadata": {},
   "outputs": [
    {
     "name": "stdout",
     "output_type": "stream",
     "text": [
      "Введите номер документа: 10006\n",
      "Аристарх Павлов\n"
     ]
    }
   ],
   "source": [
    "people(documents)"
   ]
  },
  {
   "cell_type": "code",
   "execution_count": 62,
   "metadata": {},
   "outputs": [],
   "source": [
    "# s – shelf – команда, которая спросит номер документа и выведет номер полки, на которой он находится\n",
    "# Правильно обработайте ситуации, когда пользователь будет вводить несуществующий документ.\n",
    "def shelf(directories):\n",
    "    number_doc = input('Введите номер документа: ')  \n",
    "    for key_dir, number_dir in directories.items():\n",
    "        if number_doc in number_dir:\n",
    "            print(f'Номер полки с документом: {key_dir}')\n",
    "            return\n",
    "    print('Документ не найден')"
   ]
  },
  {
   "cell_type": "code",
   "execution_count": 167,
   "metadata": {},
   "outputs": [
    {
     "name": "stdout",
     "output_type": "stream",
     "text": [
      "Введите номер документа: 10006\n",
      "Номер полки с документом: 2\n"
     ]
    }
   ],
   "source": [
    "shelf(directories)"
   ]
  },
  {
   "cell_type": "code",
   "execution_count": 63,
   "metadata": {},
   "outputs": [],
   "source": [
    "# l – list – команда, которая выведет список всех документов в формате\n",
    "# passport \"2207 876234\" \"Василий Гупкин\"\n",
    "\n",
    "\n",
    "# Пишу сначала вспомогательную функцию, shelf_2, которая возвращает номер полки\n",
    "def shelf_2(number_doc): \n",
    "    for key_dir, number_dir in directories.items():\n",
    "        if number_doc in number_dir:\n",
    "            return key_dir\n",
    "\n",
    "def list_(documents):\n",
    "    for string in documents:\n",
    "        shelf_ = shelf_2(string['number'])\n",
    "        print(f\" №: {string['number']}, тип: {string['type']}, владелец: {string['name']}, полка хранения: {shelf_}\")"
   ]
  },
  {
   "cell_type": "code",
   "execution_count": 171,
   "metadata": {},
   "outputs": [
    {
     "name": "stdout",
     "output_type": "stream",
     "text": [
      " №: 2207 876234, тип: passport, владелец: Василий Гупкин, полка хранения: 1\n",
      " №: 11-2, тип: invoice, владелец: Геннадий Покемонов, полка хранения: 1\n",
      " №: 10006, тип: insurance, владелец: Аристарх Павлов, полка хранения: 2\n"
     ]
    }
   ],
   "source": [
    "list_(documents)"
   ]
  },
  {
   "cell_type": "code",
   "execution_count": 64,
   "metadata": {},
   "outputs": [],
   "source": [
    "# ads – add shelf – команда, которая спросит номер новой полки и добавит ее в перечень. \n",
    "# Предусмотрите случай, когда пользователь добавляет полку, которая уже существует.\n",
    "def add_shelf(directories):\n",
    "    number_dir = input('Введите номер новой полки ')\n",
    "    if number_dir not in directories.keys():\n",
    "        directories[number_dir] = []\n",
    "        print(f'Полка {number_dir} добавлена, текущий перечень полок: ', end='')\n",
    "        for x in directories.keys():\n",
    "            print(x, end=', ')    \n",
    "        return \n",
    "    else:\n",
    "        print('Такая полка уже существует. Текущий перечень полок: ', end='') \n",
    "        for x in directories.keys():\n",
    "            print(x, end=', ')    \n",
    "        return "
   ]
  },
  {
   "cell_type": "code",
   "execution_count": 20,
   "metadata": {},
   "outputs": [
    {
     "name": "stdout",
     "output_type": "stream",
     "text": [
      "Введите номер новой полки 1\n",
      "Такая полка уже существует. Текущий перечень полок: 1, 2, 3, "
     ]
    }
   ],
   "source": [
    "add_shelf(directories)"
   ]
  },
  {
   "cell_type": "code",
   "execution_count": 65,
   "metadata": {},
   "outputs": [],
   "source": [
    "# Пункт 5. Пользователь по команде \"ds\" может удалить существующую полку из данных (только если она пустая)\n",
    "\n",
    "def delete_shelf(directories):\n",
    "\n",
    "    shelf_per = input('Введите номер полки: ')\n",
    "    len_shelf = {}\n",
    "    for sh, number in directories.items():\n",
    "        len_shelf[sh] = len(number)\n",
    "\n",
    "\n",
    "\n",
    "    if shelf_per not in directories.keys():\n",
    "        print('Такой полки не существует. Текущий перечень полок: ', end='')\n",
    "        for x in directories.keys():\n",
    "            print(x, end=', ')    \n",
    "        return \n",
    "    \n",
    "    elif len_shelf[shelf_per] != 0:\n",
    "        print('На полке есть документы, удалите их перед удалением полки. Текущий перечень полок: ', end='')\n",
    "        for x in directories.keys():\n",
    "            print(x, end=', ')    \n",
    "        return \n",
    "          \n",
    "    else:\n",
    "        del directories[shelf_per]\n",
    "        print('Полка удалена. Текущий перечень полок: ', end='')\n",
    "        for x in directories.keys():\n",
    "            print(x, end=', ')    \n",
    "        return \n",
    "            \n"
   ]
  },
  {
   "cell_type": "code",
   "execution_count": 22,
   "metadata": {},
   "outputs": [
    {
     "name": "stdout",
     "output_type": "stream",
     "text": [
      "Введите номер полки: 1\n",
      "На полке есть документы, удалите их перед удалением полки. Текущий перечень полок: 1, 2, 3, "
     ]
    }
   ],
   "source": [
    "delete_shelf(directories)"
   ]
  },
  {
   "cell_type": "code",
   "execution_count": 66,
   "metadata": {},
   "outputs": [],
   "source": [
    "# a – add – команда, которая добавит новый документ в каталог и в перечень полок, спросив его номер, тип, \n",
    "# имя владельца и номер полки, на котором он будет храниться. \n",
    "# Корректно обработайте ситуацию, когда пользователь будет пытаться добавить документ на несуществующую полку.\n",
    "\n",
    "def add(documents, directories):\n",
    "    type_doc = input('Введите тип документа ')\n",
    "    number_doc = input('Введите номер документа, который нужно добавить ')\n",
    "    name_ = input('Введите имя владельца ')\n",
    "    number_dirr = input('Введите номер полки, на которой документ будет храниться ')\n",
    "\n",
    "    for key, number_dir in directories.items():\n",
    "        if number_dirr == key:\n",
    "            documents.append({'type': type_doc, 'number': number_doc, 'name': name_})\n",
    "            number_dir.append(number_doc)\n",
    "            print('Документ добавлен. Текущий список документов: ')\n",
    "            list_(documents)\n",
    "            return\n",
    "    print('Такой полки нет. Добавьте полку командой ads. Текущий список документов: ')\n",
    "    list_(documents)\n",
    "    return"
   ]
  },
  {
   "cell_type": "code",
   "execution_count": 44,
   "metadata": {},
   "outputs": [
    {
     "name": "stdout",
     "output_type": "stream",
     "text": [
      "Введите тип документа 42\n",
      "Введите номер документа, который нужно добавить multipassport\n",
      "Введите имя владельца R2D2\n",
      "Введите номер полки, на которой документ будет храниться 4\n",
      "Такой полки нет. Добавьте полку командой ads. Текущий список документов: \n",
      " №: 2207 876234, тип: passport, владелец: Василий Гупкин, полка хранения: 1\n",
      " №: 11-2, тип: invoice, владелец: Геннадий Покемонов, полка хранения: 1\n",
      " №: 10006, тип: insurance, владелец: Аристарх Павлов, полка хранения: 2\n",
      " №: 123654, тип: pasp, владелец: Alex Alex, полка хранения: 2\n"
     ]
    }
   ],
   "source": [
    "add(documents, directories)"
   ]
  },
  {
   "cell_type": "code",
   "execution_count": 67,
   "metadata": {},
   "outputs": [],
   "source": [
    "# d – delete – команда, которая спросит номер документа и удалит его из каталога и из перечня полок. \n",
    "# Предусмотрите сценарий, когда пользователь вводит несуществующий документ;\n",
    "\n",
    "def delete_doc(documents, directories):\n",
    "    i = 0\n",
    "    number_doc = input('Введите номер документа: ')\n",
    "    for doc in documents:\n",
    "        i += 1\n",
    "        if number_doc == doc['number']:\n",
    "            del(documents[i - 1])\n",
    "    for number_dir in directories.values():\n",
    "        for i_del in number_dir:\n",
    "            if i_del==number_doc:\n",
    "                number_dir.remove(number_doc)\n",
    "                print('Документ удален. Текущий список документов: ')\n",
    "                list_(documents)\n",
    "                return\n",
    "    print('Документ не найден. Текущий список документов в базе: ')\n",
    "    list_(documents)"
   ]
  },
  {
   "cell_type": "code",
   "execution_count": 50,
   "metadata": {},
   "outputs": [
    {
     "name": "stdout",
     "output_type": "stream",
     "text": [
      "Введите номер документа: 1\n",
      "Документ не найден. Текущий список документов в базе: \n",
      " №: 2207 876234, тип: passport, владелец: Василий Гупкин, полка хранения: 1\n",
      " №: 11-2, тип: invoice, владелец: Геннадий Покемонов, полка хранения: 1\n",
      " №: 123654, тип: pasp, владелец: Alex Alex, полка хранения: 2\n"
     ]
    }
   ],
   "source": [
    "delete_doc(documents, directories)"
   ]
  },
  {
   "cell_type": "code",
   "execution_count": 68,
   "metadata": {},
   "outputs": [],
   "source": [
    "# m – move – команда, которая спросит номер документа и целевую полку и переместит его с текущей полки на целевую. \n",
    "# Корректно обработайте кейсы, когда пользователь пытается переместить несуществующий документ \n",
    "# или переместить документ на несуществующую полку;\n",
    "\n",
    "def move(directories):\n",
    "    number_doc = input('Введите номер документа, который нужно переместить: ')\n",
    "    number_dirr = input('Введите номер полки, на которую необходимо переместить: ')\n",
    "    for key, value in directories.items():\n",
    "        if key == number_dirr:\n",
    "            for number_dir in directories.values():\n",
    "                for i_del in number_dir:\n",
    "                    if i_del==number_doc:\n",
    "                        number_dir.remove(number_doc)\n",
    "                        value.append(number_doc)\n",
    "                        print('Документ перемещен. Текущий список документов:')\n",
    "                        list_(documents)\n",
    "                        return\n",
    "    print('Введен неверный номер документа или номер полки')\n"
   ]
  },
  {
   "cell_type": "code",
   "execution_count": 56,
   "metadata": {},
   "outputs": [
    {
     "name": "stdout",
     "output_type": "stream",
     "text": [
      "Введите номер документа, который нужно переместить: 10006\n",
      "Введите номер полки, на которую необходимо переместить: 3\n",
      "Документ перемещен. Текущий список документов:\n",
      " №: 2207 876234, тип: passport, владелец: Василий Гупкин, полка хранения: 1\n",
      " №: 11-2, тип: invoice, владелец: Геннадий Покемонов, полка хранения: 1\n",
      " №: 10006, тип: insurance, владелец: Аристарх Павлов, полка хранения: 3\n"
     ]
    }
   ],
   "source": [
    "move(directories)"
   ]
  },
  {
   "cell_type": "code",
   "execution_count": 57,
   "metadata": {},
   "outputs": [
    {
     "name": "stdout",
     "output_type": "stream",
     "text": [
      "[{'type': 'passport', 'number': '2207 876234', 'name': 'Василий Гупкин'}, {'type': 'invoice', 'number': '11-2', 'name': 'Геннадий Покемонов'}, {'type': 'insurance', 'number': '10006', 'name': 'Аристарх Павлов'}]\n"
     ]
    }
   ],
   "source": [
    "print(documents)"
   ]
  },
  {
   "cell_type": "code",
   "execution_count": 12,
   "metadata": {},
   "outputs": [
    {
     "name": "stdout",
     "output_type": "stream",
     "text": [
      "{'1': ['2207 876234', '11-2'], '2': ['10006'], '3': []}\n"
     ]
    }
   ],
   "source": [
    "print(directories)"
   ]
  },
  {
   "cell_type": "code",
   "execution_count": 75,
   "metadata": {},
   "outputs": [],
   "source": [
    "def main():\n",
    "    while True:\n",
    "        user_input = input('Введите команду: p - Поиск человека по номеру документа, s - Поиск полки на которой хранится документ, l - Список всех документов, ads - Добавление новой полки, ds - Удаление полки, a - Добавление нового документа, m - Перемещение документа на другую полку, , q - Для выхода')\n",
    "        if user_input == 'p':\n",
    "            people(documents)\n",
    "        elif user_input == 's':\n",
    "            shelf(directories)\n",
    "        elif user_input == 'l':\n",
    "            list_(documents)\n",
    "        elif user_input == 'ads':\n",
    "            add_shelf(directories)\n",
    "        elif user_input == 'ds':\n",
    "            delete_shelf(directories)\n",
    "        elif user_input == 'a':\n",
    "            add(documents, directories)    \n",
    "        elif user_input == 'd':\n",
    "            delete_doc(documents, directories)    \n",
    "        elif user_input == 'm':\n",
    "            move(directories)\n",
    "\n",
    "        elif user_input == 'q':\n",
    "            break"
   ]
  },
  {
   "cell_type": "code",
   "execution_count": 70,
   "metadata": {},
   "outputs": [],
   "source": [
    "q = {'p': people, 's': shelf, 'l': list_, 'ads': add_shelf, 'ds': delete_shelf, 'a': add, 'd': delete_doc,'m': move}"
   ]
  },
  {
   "cell_type": "code",
   "execution_count": 83,
   "metadata": {},
   "outputs": [
    {
     "name": "stdout",
     "output_type": "stream",
     "text": [
      "Введите номер документа: 10006\n"
     ]
    },
    {
     "data": {
      "text/plain": [
       "'Аристарх Павлов'"
      ]
     },
     "execution_count": 83,
     "metadata": {},
     "output_type": "execute_result"
    }
   ],
   "source": [
    "q['p'](documents)"
   ]
  },
  {
   "cell_type": "code",
   "execution_count": 86,
   "metadata": {},
   "outputs": [
    {
     "name": "stdout",
     "output_type": "stream",
     "text": [
      "Введите команду: p - Поиск человека по номеру документа, s - Поиск полки на которой хранится документ, l - Список всех документов, ads - Добавление новой полки, ds - Удаление полки, a - Добавление нового документа, m - Перемещение документа на другую полку, , q - Для выходаp\n",
      "Введите номер документа: 10006\n",
      "Аристарх Павлов\n",
      "Введите команду: p - Поиск человека по номеру документа, s - Поиск полки на которой хранится документ, l - Список всех документов, ads - Добавление новой полки, ds - Удаление полки, a - Добавление нового документа, m - Перемещение документа на другую полку, , q - Для выходаa\n",
      "Введите тип документа pasport\n",
      "Введите номер документа, который нужно добавить 789654123\n",
      "Введите имя владельца alex petrov\n",
      "Введите номер полки, на которой документ будет храниться 3\n",
      "Документ добавлен. Текущий список документов: \n",
      " №: 2207 876234, тип: passport, владелец: Василий Гупкин, полка хранения: 1\n",
      " №: 11-2, тип: invoice, владелец: Геннадий Покемонов, полка хранения: 1\n",
      " №: 10006, тип: insurance, владелец: Аристарх Павлов, полка хранения: 2\n",
      " №: 123654, тип: pasp, владелец: alex, полка хранения: 2\n",
      " №: 789654123, тип: pasport, владелец: alex petrov, полка хранения: 3\n",
      "Введите команду: p - Поиск человека по номеру документа, s - Поиск полки на которой хранится документ, l - Список всех документов, ads - Добавление новой полки, ds - Удаление полки, a - Добавление нового документа, m - Перемещение документа на другую полку, , q - Для выходаq\n"
     ]
    }
   ],
   "source": [
    "main()"
   ]
  },
  {
   "cell_type": "code",
   "execution_count": null,
   "metadata": {},
   "outputs": [],
   "source": []
  }
 ],
 "metadata": {
  "kernelspec": {
   "display_name": "Python 3",
   "language": "python",
   "name": "python3"
  },
  "language_info": {
   "codemirror_mode": {
    "name": "ipython",
    "version": 3
   },
   "file_extension": ".py",
   "mimetype": "text/x-python",
   "name": "python",
   "nbconvert_exporter": "python",
   "pygments_lexer": "ipython3",
   "version": "3.7.6"
  }
 },
 "nbformat": 4,
 "nbformat_minor": 2
}
