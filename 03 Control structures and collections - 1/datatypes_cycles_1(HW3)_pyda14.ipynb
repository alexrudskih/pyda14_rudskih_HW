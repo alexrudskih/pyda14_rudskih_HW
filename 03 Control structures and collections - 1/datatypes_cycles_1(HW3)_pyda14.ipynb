{
 "cells": [
  {
   "cell_type": "markdown",
   "metadata": {},
   "source": [
    "Задача 1. Дана переменная, в которой хранится слово из латинских букв. Напишите код, который выводит на экранбукву из середины слова (если число букв нечетное). Если букв четное число, то на экран выводятся две буквы из середины.\n",
    "\n",
    "Пример: для 'test' должно выводится 'es', для 'testing' - 't'"
   ]
  },
  {
   "cell_type": "code",
   "execution_count": 1,
   "metadata": {},
   "outputs": [
    {
     "name": "stdout",
     "output_type": "stream",
     "text": [
      "Введите слово: test\n",
      "es\n"
     ]
    }
   ],
   "source": [
    "word = input('Введите слово: ')\n",
    "if len(word) % 2 == 0:\n",
    "    start = int(len(word) / 2 - 1)\n",
    "    finish = int(len(word) / 2 + 1) \n",
    "    print(word[start:finish])\n",
    "else:\n",
    "    medium_letter = int((len(word) / 2) - 0.5)\n",
    "    print(word[medium_letter])  "
   ]
  },
  {
   "cell_type": "markdown",
   "metadata": {},
   "source": [
    "Задание 2\n",
    "Напишите программу, которая последовательно запрашивает у пользователя числа (по одному за раз) и после первого нуля выводит сумму всех ранее введенных чисел.\n",
    "\n",
    "Примеры работы программы:\n",
    "\n",
    "Введите число:\n",
    "1\n",
    "\n",
    "Введите число:\n",
    "4\n",
    "\n",
    "Введите число:\n",
    "6\n",
    "\n",
    "Введите число:\n",
    "0\n",
    "Результат:\n",
    "11\n",
    "\n",
    "Введите число:\n",
    "0\n",
    "Результат:\n",
    "0"
   ]
  },
  {
   "cell_type": "code",
   "execution_count": 7,
   "metadata": {},
   "outputs": [
    {
     "name": "stdout",
     "output_type": "stream",
     "text": [
      "Введите любое число 1\n",
      "Введите любое число 4\n",
      "Введите любое число 6\n",
      "Введите любое число 0\n",
      "11\n"
     ]
    }
   ],
   "source": [
    "sum_num = 0\n",
    "num = []\n",
    "while num != 0:\n",
    "    num = int(input('Введите любое число '))\n",
    "    sum_num += num\n",
    "print(sum_num)"
   ]
  },
  {
   "cell_type": "markdown",
   "metadata": {},
   "source": [
    "Задание 3\n",
    "Мы делаем MVP dating-сервиса, и у нас есть список парней и девушек.\n",
    "Выдвигаем гипотезу: лучшие рекомендации мы получим, если просто отсортируем имена по алфавиту и познакомим людей с одинаковыми индексами после сортировки! Но мы не будем никого знакомить, если кто-то может остаться без пары:\n",
    "\n",
    "Примеры работы программы:\n",
    "\n",
    "boys = [‘Peter’, ‘Alex’, ‘John’, ‘Arthur’, ‘Richard’]\n",
    "girls = [‘Kate’, ‘Liza’, ‘Kira’, ‘Emma’, ‘Trisha’]\n",
    "Результат:\n",
    "\n",
    "Идеальные пары:\n",
    "Alex и Emma\n",
    "Arthur и Kate\n",
    "John и Kira\n",
    "Peter и Liza\n",
    "Richard и Trisha\n",
    "boys = [‘Peter’, ‘Alex’, ‘John’, ‘Arthur’, ‘Richard’, ‘Michael’]\n",
    "girls = [‘Kate’, ‘Liza’, ‘Kira’, ‘Emma’, ‘Trisha’]\n",
    "Результат:\n",
    "Внимание, кто-то может остаться без пары!"
   ]
  },
  {
   "cell_type": "code",
   "execution_count": 14,
   "metadata": {},
   "outputs": [],
   "source": [
    "boys = ['Peter', 'Alex', 'John', 'Arthur', 'Richard']\n",
    "girls = ['Kate', 'Liza', 'Kira', 'Emma', 'Trisha']"
   ]
  },
  {
   "cell_type": "code",
   "execution_count": 15,
   "metadata": {
    "scrolled": true
   },
   "outputs": [
    {
     "name": "stdout",
     "output_type": "stream",
     "text": [
      "Идеальные пары\n",
      "Alex и Emma\n",
      "Arthur и Kate\n",
      "John и Kira\n",
      "Peter и Liza\n",
      "Richard и Trisha\n"
     ]
    }
   ],
   "source": [
    "s_boys = sorted(boys)\n",
    "s_girls = sorted(girls)\n",
    "if len(s_boys) == len(s_girls):\n",
    "    recommendations = zip(s_boys, s_girls)\n",
    "    print('Идеальные пары')\n",
    "    for couple in recommendations:\n",
    "        print(f'{couple[0]} и {couple[1]}')\n",
    "else:\n",
    "    print('Кто-то может остаться без пары!')"
   ]
  },
  {
   "cell_type": "markdown",
   "metadata": {},
   "source": [
    "Задание 4\n",
    "У нас есть список, содержащий информацию о среднедневной температуре в Фаренгейтах за произвольный период по странам (структура данных в примере). Необходимо написать код, который рассчитает среднюю температуру за период в Цельсиях(!) для каждой страны.\n",
    "\n",
    "Пример работы программы:\n",
    "\n",
    "countries_temperature = [\n",
    "[‘Thailand’, [75.2, 77, 78.8, 73.4, 68, 75.2, 77]],\n",
    "[‘Germany’, [57.2, 55.4, 59, 59, 53.6]],\n",
    "[‘Russia’, [35.6, 37.4, 39.2, 41, 42.8, 39.2, 35.6]],\n",
    "[‘Poland’, [50, 50, 53.6, 57.2, 55.4, 55.4]]\n",
    "]\n",
    "Результат:\n",
    "\n",
    "Средняя температура в странах:\n",
    "Thailand - 23.9 С\n",
    "Germany - 13.8 С\n",
    "Russia - 3.7 С\n",
    "Poland - 12.0 С"
   ]
  },
  {
   "cell_type": "code",
   "execution_count": 17,
   "metadata": {},
   "outputs": [],
   "source": [
    "countries_temperature = [\n",
    "['Thailand', [75.2, 77, 78.8, 73.4, 68, 75.2, 77]],\n",
    "['Germany', [57.2, 55.4, 59, 59, 53.6]],\n",
    "['Russia', [35.6, 37.4, 39.2, 41, 42.8, 39.2, 35.6]],\n",
    "['Poland', [50, 50, 53.6, 57.2, 55.4, 55.4]]]"
   ]
  },
  {
   "cell_type": "code",
   "execution_count": 18,
   "metadata": {},
   "outputs": [
    {
     "name": "stdout",
     "output_type": "stream",
     "text": [
      "Average temperature in Thailand 74.94\n",
      "Average temperature in Germany 56.84\n",
      "Average temperature in Russia 38.69\n",
      "Average temperature in Poland 53.6\n"
     ]
    }
   ],
   "source": [
    "for temperature in countries_temperature:\n",
    "    print(f'Average temperature in {temperature[0]}', end=' ')\n",
    "    number_of_measurements = len(temperature[1])\n",
    "    print(round(sum(temperature[1]) / number_of_measurements , 2))"
   ]
  },
  {
   "cell_type": "markdown",
   "metadata": {},
   "source": [
    "Задание 5 (необязательное)\n",
    "Дан поток логов по количеству просмотренных страниц для каждого пользователя. Вам необходимо написать алгоритм, который считает среднее значение просмотров на пользователя. Т. е. надо посчитать отношение суммы всех просмотров к количеству уникальных пользователей.\n",
    "\n",
    "Примеры работы программы:"
   ]
  },
  {
   "cell_type": "code",
   "execution_count": 22,
   "metadata": {},
   "outputs": [],
   "source": [
    "stream = [\n",
    "    '2018-01-01,user1,3',\n",
    "    '2018-01-07,user1,4',\n",
    "    '2018-03-29,user1,1',\n",
    "    '2018-04-04,user1,13',\n",
    "    '2018-01-05,user2,7',\n",
    "    '2018-06-14,user3,4',\n",
    "    '2018-07-02,user3,10',\n",
    "    '2018-03-21,user4,19',\n",
    "    '2018-03-22,user4,4',\n",
    "    '2018-04-22,user4,8',\n",
    "    '2018-05-03,user4,9',\n",
    "    '2018-05-11,user4,11',\n",
    "]"
   ]
  },
  {
   "cell_type": "markdown",
   "metadata": {},
   "source": [
    "Результат:\n",
    "Среднее количество просмотров на уникального пользователя: 23.25"
   ]
  },
  {
   "cell_type": "code",
   "execution_count": 34,
   "metadata": {},
   "outputs": [],
   "source": [
    "stream = [\n",
    "'2018-01-01,user100,150',\n",
    "'2018-01-07,user99,205',\n",
    "'2018-03-29,user1001,81'\n",
    "]"
   ]
  },
  {
   "cell_type": "markdown",
   "metadata": {},
   "source": [
    "Результат:\n",
    "Среднее количество просмотров на уникального пользователя: 145.33"
   ]
  },
  {
   "cell_type": "code",
   "execution_count": 36,
   "metadata": {},
   "outputs": [
    {
     "name": "stdout",
     "output_type": "stream",
     "text": [
      "Среднее количество просмотров на уникального пользователя: 145.33\n"
     ]
    }
   ],
   "source": [
    "new_stream = [new_stream.split(',') for new_stream in stream]\n",
    "# print(new_stream)\n",
    "for views in new_stream:\n",
    "    views[2] = int(views[2])\n",
    "views_2 = [x[2] for x in new_stream]\n",
    "sum_views = sum(views_2)\n",
    "# print(sum_views)\n",
    "users = [y[1] for y in new_stream]\n",
    "quantity_users_uniq = len(set(users))\n",
    "print(f'Среднее количество просмотров на уникального пользователя:', round(sum_views / quantity_users_uniq, 2))"
   ]
  },
  {
   "cell_type": "markdown",
   "metadata": {},
   "source": [
    "Задание 6 (необязательное)\n",
    "Необходимо у пользователя запрашивать набор чисел разделенных пробелом. В результате должны выводиться числа, которые повторяются в вводе более одного раза.\n",
    "\n",
    "Примеры работы программы:\n",
    "\n",
    "Введите числа:\n",
    "4 8 0 3 4 2 0 3\n",
    "Результат:\n",
    "0 3 4\n",
    "\n",
    "Введите числа:\n",
    "1 1 2 2 3 3\n",
    "Результат:\n",
    "1 2 3\n",
    "\n",
    "Введите числа:\n",
    "1 1 1 1 1 2 2 2\n",
    "Результат:\n",
    "1 2"
   ]
  },
  {
   "cell_type": "code",
   "execution_count": 67,
   "metadata": {},
   "outputs": [
    {
     "name": "stdout",
     "output_type": "stream",
     "text": [
      "Введите ряд чисел разделенных пробелом 1 1 1 1 1 2 2 2\n",
      "1 2 "
     ]
    }
   ],
   "source": [
    "result = []\n",
    "string_of_numbers = input('Введите ряд чисел разделенных пробелом ')\n",
    "numbers = string_of_numbers.split() \n",
    "for number in numbers:\n",
    "    x = string_of_numbers.count(number)\n",
    "    if x >= 2:\n",
    "        result.append(number)\n",
    "finish = sorted(list(set(result)))\n",
    "for number_2 in finish:\n",
    "    print(number_2, end=' ')"
   ]
  }
 ],
 "metadata": {
  "kernelspec": {
   "display_name": "Python 3",
   "language": "python",
   "name": "python3"
  },
  "language_info": {
   "codemirror_mode": {
    "name": "ipython",
    "version": 3
   },
   "file_extension": ".py",
   "mimetype": "text/x-python",
   "name": "python",
   "nbconvert_exporter": "python",
   "pygments_lexer": "ipython3",
   "version": "3.7.6"
  }
 },
 "nbformat": 4,
 "nbformat_minor": 4
}
