{
 "cells": [
  {
   "cell_type": "markdown",
   "metadata": {},
   "source": [
    "# Домашнее задание к лекции «Исключения и обработка ошибок»"
   ]
  },
  {
   "cell_type": "markdown",
   "metadata": {},
   "source": [
    "## Задание 1\n",
    "Печатные газеты использовали свой формат дат для каждого выпуска. Для каждой газеты из списка напишите формат указанной даты для перевода в объект datetime:\n",
    "\n",
    "The Moscow Times - Wednesday, October 2, 2002\n",
    "\n",
    "The Guardian - Friday, 11.10.13\n",
    "\n",
    "Daily News - Thursday, 18 August 1977"
   ]
  },
  {
   "cell_type": "code",
   "execution_count": 2,
   "metadata": {},
   "outputs": [],
   "source": [
    "date_moscow = 'Wednesday, October 2, 2002'\n",
    "date_guardian = 'Friday, 11.10.13'\n",
    "date_daily = 'Thursday, 18 August 1977'"
   ]
  },
  {
   "cell_type": "code",
   "execution_count": 4,
   "metadata": {},
   "outputs": [],
   "source": [
    "from datetime import datetime"
   ]
  },
  {
   "cell_type": "code",
   "execution_count": 6,
   "metadata": {},
   "outputs": [
    {
     "data": {
      "text/plain": [
       "datetime.datetime(2002, 10, 2, 0, 0)"
      ]
     },
     "execution_count": 6,
     "metadata": {},
     "output_type": "execute_result"
    }
   ],
   "source": [
    "datetime.strptime(date_moscow, '%A, %B %d, %Y')"
   ]
  },
  {
   "cell_type": "code",
   "execution_count": 7,
   "metadata": {},
   "outputs": [
    {
     "data": {
      "text/plain": [
       "datetime.datetime(2013, 10, 11, 0, 0)"
      ]
     },
     "execution_count": 7,
     "metadata": {},
     "output_type": "execute_result"
    }
   ],
   "source": [
    "datetime.strptime(date_guardian, '%A, %d.%m.%y')"
   ]
  },
  {
   "cell_type": "code",
   "execution_count": 8,
   "metadata": {},
   "outputs": [
    {
     "data": {
      "text/plain": [
       "datetime.datetime(1977, 8, 18, 0, 0)"
      ]
     },
     "execution_count": 8,
     "metadata": {},
     "output_type": "execute_result"
    }
   ],
   "source": [
    "datetime.strptime(date_daily, '%A, %d %B %Y')"
   ]
  },
  {
   "cell_type": "markdown",
   "metadata": {},
   "source": [
    "## Задание 2\n",
    "Дан поток дат в формате YYYY-MM-DD, в которых встречаются некорректные значения:\n",
    "stream = [‘2018-04-02’, ‘2018-02-29’, ‘2018-19-02’]\n",
    "\n",
    "Напишите функцию, которая проверяет эти даты на корректность. Т. е. для каждой даты возвращает True (дата корректна) или False (некорректная дата)."
   ]
  },
  {
   "cell_type": "code",
   "execution_count": 29,
   "metadata": {},
   "outputs": [],
   "source": [
    "stream = ['2018-04-02', '2018-02-29', '2018-19-02']"
   ]
  },
  {
   "cell_type": "code",
   "execution_count": 32,
   "metadata": {},
   "outputs": [],
   "source": [
    "def date_correct(stream):\n",
    "    for string in stream:\n",
    "        try:\n",
    "            date = datetime.strptime(string, '%Y-%m-%d')\n",
    "            print(f'{string} - Дата корректна')\n",
    "        except:\n",
    "            print(f'{string} - Некорректная дата')"
   ]
  },
  {
   "cell_type": "code",
   "execution_count": 33,
   "metadata": {},
   "outputs": [
    {
     "name": "stdout",
     "output_type": "stream",
     "text": [
      "2018-04-02 - Дата корректна\n",
      "2018-02-29 - Некорректная дата\n",
      "2018-19-02 - Некорректная дата\n"
     ]
    }
   ],
   "source": [
    "date_correct(stream)"
   ]
  },
  {
   "cell_type": "markdown",
   "metadata": {},
   "source": [
    "## Задание 3\n",
    "Напишите функцию date_range, которая возвращает список дат за период от start_date до end_date. Даты должны вводиться в формате YYYY-MM-DD. В случае неверного формата или при start_date > end_date должен возвращаться пустой список."
   ]
  },
  {
   "cell_type": "code",
   "execution_count": 48,
   "metadata": {},
   "outputs": [],
   "source": [
    "def date_range():\n",
    "\n",
    "    start_date = input('Введите дату начала периода в формате YYYY-MM-DD ')\n",
    "    end_date = input('Введите дату окончания периода в формате YYYY-MM-DD ')\n",
    "\n",
    "\n",
    "    from datetime import datetime\n",
    "    from datetime import timedelta\n",
    "    try:\n",
    "        start_date_ = datetime.strptime(start_date, '%Y-%m-%d')\n",
    "        end_date_ = datetime.strptime(end_date, '%Y-%m-%d')\n",
    "        date_edit = start_date_\n",
    "        if date_edit.strftime('%Y-%m-%d') > end_date:\n",
    "            print()\n",
    "        else:\n",
    "            while date_edit.strftime('%Y-%m-%d') <= end_date:\n",
    "                print(date_edit.strftime('%Y-%m-%d'))\n",
    "                date_edit += timedelta(days=1)\n",
    "    except:\n",
    "        print()\n",
    "    "
   ]
  },
  {
   "cell_type": "code",
   "execution_count": 49,
   "metadata": {},
   "outputs": [
    {
     "name": "stdout",
     "output_type": "stream",
     "text": [
      "Введите дату начала периода в формате YYYY-MM-DD 2020-10-01\n",
      "Введите дату окончания периода в формате YYYY-MM-DD 2020-10-29\n",
      "2020-10-01\n",
      "2020-10-02\n",
      "2020-10-03\n",
      "2020-10-04\n",
      "2020-10-05\n",
      "2020-10-06\n",
      "2020-10-07\n",
      "2020-10-08\n",
      "2020-10-09\n",
      "2020-10-10\n",
      "2020-10-11\n",
      "2020-10-12\n",
      "2020-10-13\n",
      "2020-10-14\n",
      "2020-10-15\n",
      "2020-10-16\n",
      "2020-10-17\n",
      "2020-10-18\n",
      "2020-10-19\n",
      "2020-10-20\n",
      "2020-10-21\n",
      "2020-10-22\n",
      "2020-10-23\n",
      "2020-10-24\n",
      "2020-10-25\n",
      "2020-10-26\n",
      "2020-10-27\n",
      "2020-10-28\n",
      "2020-10-29\n"
     ]
    }
   ],
   "source": [
    "date_range()"
   ]
  },
  {
   "cell_type": "markdown",
   "metadata": {},
   "source": [
    "## Задание 4 (бонусное)\n",
    "Ваш коллега прислал код функции:\n",
    "\n",
    "DEFAULT_USER_COUNT = 3\n",
    "\n",
    "def delete_and_return_last_user(region, default_list=[‘A100’, ‘A101’, ‘A102’]):\n",
    "\"\"“\n",
    "Удаляет из списка default_list последнего пользователя\n",
    "и возвращает ID нового последнего пользователя.\n",
    "”\"\"\n",
    "element_to_delete = default_list[-1]\n",
    "default_list.remove(element_to_delete)\n",
    "\n",
    "return default_list[DEFAULT_USER_COUNT-2]\n",
    "При однократном вызове этой функции все работает корректно:\n",
    "delete_and_return_last_user(1)\n",
    "‘A101’\n",
    "\n",
    "Однако, при повторном вызове получается ошибка IndexError: list index out of range.\n",
    "\n",
    "Задание:\n",
    "\n",
    "Что значит ошибка list index out of range?\n",
    "\n",
    "Почему при первом запуске функция работает корректно, а при втором - нет?"
   ]
  },
  {
   "cell_type": "code",
   "execution_count": 54,
   "metadata": {},
   "outputs": [],
   "source": [
    "DEFAULT_USER_COUNT = 3\n",
    "\n",
    "def delete_and_return_last_user(region, default_list=['A100', 'A101', 'A102']):\n",
    "    \"\"\"\n",
    "    Удаляет из списка default_list последнего пользователя\n",
    "    и возвращает ID нового последнего пользователя.\n",
    "    \"\"\"\n",
    "    element_to_delete = default_list[-1]\n",
    "    default_list.remove(element_to_delete)\n",
    "\n",
    "    return default_list[DEFAULT_USER_COUNT-2]\n"
   ]
  },
  {
   "cell_type": "code",
   "execution_count": 56,
   "metadata": {},
   "outputs": [
    {
     "ename": "IndexError",
     "evalue": "list index out of range",
     "output_type": "error",
     "traceback": [
      "\u001b[1;31m---------------------------------------------------------------------------\u001b[0m",
      "\u001b[1;31mIndexError\u001b[0m                                Traceback (most recent call last)",
      "\u001b[1;32m<ipython-input-56-bfb6c4f8c48e>\u001b[0m in \u001b[0;36m<module>\u001b[1;34m\u001b[0m\n\u001b[1;32m----> 1\u001b[1;33m \u001b[0mdelete_and_return_last_user\u001b[0m\u001b[1;33m(\u001b[0m\u001b[1;36m1\u001b[0m\u001b[1;33m)\u001b[0m\u001b[1;33m\u001b[0m\u001b[1;33m\u001b[0m\u001b[0m\n\u001b[0m",
      "\u001b[1;32m<ipython-input-54-62baa56d5abd>\u001b[0m in \u001b[0;36mdelete_and_return_last_user\u001b[1;34m(region, default_list)\u001b[0m\n\u001b[0;32m      9\u001b[0m     \u001b[0mdefault_list\u001b[0m\u001b[1;33m.\u001b[0m\u001b[0mremove\u001b[0m\u001b[1;33m(\u001b[0m\u001b[0melement_to_delete\u001b[0m\u001b[1;33m)\u001b[0m\u001b[1;33m\u001b[0m\u001b[1;33m\u001b[0m\u001b[0m\n\u001b[0;32m     10\u001b[0m \u001b[1;33m\u001b[0m\u001b[0m\n\u001b[1;32m---> 11\u001b[1;33m     \u001b[1;32mreturn\u001b[0m \u001b[0mdefault_list\u001b[0m\u001b[1;33m[\u001b[0m\u001b[0mDEFAULT_USER_COUNT\u001b[0m\u001b[1;33m-\u001b[0m\u001b[1;36m2\u001b[0m\u001b[1;33m]\u001b[0m\u001b[1;33m\u001b[0m\u001b[1;33m\u001b[0m\u001b[0m\n\u001b[0m",
      "\u001b[1;31mIndexError\u001b[0m: list index out of range"
     ]
    }
   ],
   "source": [
    "delete_and_return_last_user(1)"
   ]
  },
  {
   "cell_type": "markdown",
   "metadata": {},
   "source": [
    "Ошибка list index out of range обозначает, что индекс, к которому обращаемся в функции выходит за границы данного списка. Элемента с таким индексом нет.\n",
    "\n",
    "Ошибка при втором запуске функции возникает, т.к. после первого запуска длина списка default_list стала меньше на один элемент (стало 2 элемента, 2 пользователя), а DEFAULT_USER_COUNT - записана как константа, равная 3 пользователям.\n",
    "Когда происходит 2-ой запуск, функция переходит к return, то обращается к элементу с индексом - [DEFAULT_USER_COUNT-2] (3-2 = 1 ), а такого элемента уже нет, т.к. он был удален строкой выше, т.к. был последним. После удаления элемента в списке остается только один элемент с индексом 0, либо -1, поэтому вывести элемент с индексом 1 python не может и выдает ошибку list index out of range."
   ]
  },
  {
   "cell_type": "markdown",
   "metadata": {},
   "source": [
    "## Важно! замечание к заданию.\n",
    "\n",
    "**** Для зачета достаточно сделать любые два задания из трех! (четвертое бонусное)****\n",
    "\n",
    "При копировании с сайта нетологии Jupyter ноутбук изменяет кавычки ’ на `. Прошу учесть данный факт и обращать внимание.\n",
    "Достаточно просто заменить кавычки."
   ]
  }
 ],
 "metadata": {
  "kernelspec": {
   "display_name": "Python 3",
   "language": "python",
   "name": "python3"
  },
  "language_info": {
   "codemirror_mode": {
    "name": "ipython",
    "version": 3
   },
   "file_extension": ".py",
   "mimetype": "text/x-python",
   "name": "python",
   "nbconvert_exporter": "python",
   "pygments_lexer": "ipython3",
   "version": "3.7.6"
  }
 },
 "nbformat": 4,
 "nbformat_minor": 4
}
